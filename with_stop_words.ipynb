{
 "cells": [
  {
   "cell_type": "code",
   "execution_count": 1,
   "metadata": {
    "collapsed": true
   },
   "outputs": [],
   "source": [
    "%matplotlib inline\n",
    "\n",
    "import sqlite3\n",
    "import pandas as pd\n",
    "import numpy as np\n",
    "import nltk\n",
    "import matplotlib.pyplot as plt\n",
    "\n",
    "from __future__ import print_function\n",
    "import string\n",
    "\n",
    "import numpy as np\n",
    "import scipy.sparse as sparse\n",
    "\n",
    "from sklearn.feature_extraction.text import TfidfTransformer\n",
    "from sklearn.feature_extraction.text import CountVectorizer\n",
    "from sklearn.cross_validation import train_test_split\n",
    "from sklearn.metrics import confusion_matrix\n",
    "from sklearn import metrics\n",
    "from nltk.corpus import stopwords\n",
    "from sklearn.cross_validation import StratifiedKFold\n",
    "from sklearn.naive_bayes import BernoulliNB\n",
    "from sklearn.naive_bayes import MultinomialNB\n",
    "from sklearn import linear_model\n",
    "from sklearn.tree import DecisionTreeClassifier\n",
    "from sklearn import svm\n",
    "from sklearn.decomposition import TruncatedSVD\n",
    "from sklearn.metrics import recall_score\n",
    "from sklearn.svm import NuSVC\n",
    "from sklearn.neighbors import KNeighborsClassifier\n",
    "from sklearn.neighbors import RadiusNeighborsClassifier\n",
    "\n",
    "from nltk.stem import PorterStemmer, WordNetLemmatizer"
   ]
  },
  {
   "cell_type": "code",
   "execution_count": 2,
   "metadata": {
    "collapsed": true
   },
   "outputs": [],
   "source": [
    "data = pd.read_csv('input.csv',delimiter=';')"
   ]
  },
  {
   "cell_type": "code",
   "execution_count": 3,
   "metadata": {
    "collapsed": false
   },
   "outputs": [
    {
     "name": "stdout",
     "output_type": "stream",
     "text": [
      "(7999, 5)\n"
     ]
    }
   ],
   "source": [
    "data = data.dropna()\n",
    "print (data.shape)"
   ]
  },
  {
   "cell_type": "code",
   "execution_count": 4,
   "metadata": {
    "collapsed": false
   },
   "outputs": [
    {
     "name": "stdout",
     "output_type": "stream",
     "text": [
      "       Name      Artist     Mood  cluster  \\\n",
      "0  big-shot  billy-joel  Acerbic        3   \n",
      "1  big-shot  billy-joel  Acerbic        4   \n",
      "2  pressure  billy-joel  Acerbic        3   \n",
      "\n",
      "                                              lyrics  \n",
      "0  \\tWell, you went uptown riding in your limousi...  \n",
      "1  \\tWell, you went uptown riding in your limousi...  \n",
      "2  \\tYou have to learn to pace yourself\\tPressure...  \n"
     ]
    }
   ],
   "source": [
    "print (data.head(3))"
   ]
  },
  {
   "cell_type": "code",
   "execution_count": 5,
   "metadata": {
    "collapsed": false
   },
   "outputs": [
    {
     "data": {
      "text/plain": [
       "cluster\n",
       "1    1493\n",
       "2    1238\n",
       "3    1877\n",
       "4    1513\n",
       "5    1878\n",
       "Name: lyrics, dtype: int64"
      ]
     },
     "execution_count": 5,
     "metadata": {},
     "output_type": "execute_result"
    }
   ],
   "source": [
    "data.groupby('cluster')['lyrics'].count()"
   ]
  },
  {
   "cell_type": "code",
   "execution_count": 6,
   "metadata": {
    "collapsed": false
   },
   "outputs": [
    {
     "data": {
      "text/plain": [
       "<matplotlib.axes._subplots.AxesSubplot at 0x7fb9e5581790>"
      ]
     },
     "execution_count": 6,
     "metadata": {},
     "output_type": "execute_result"
    },
    {
     "data": {
      "image/png": "[encoded data removed]",
      "text/plain": [
       "<matplotlib.figure.Figure at 0x7fb9e5581210>"
      ]
     },
     "metadata": {},
     "output_type": "display_data"
    }
   ],
   "source": [
    "data.groupby('cluster')['lyrics'].count().plot(kind='bar',color=['r','g','b','y','pink'],title='Label Distribution',figsize=(10,6))"
   ]
  },
  {
   "cell_type": "code",
   "execution_count": 7,
   "metadata": {
    "collapsed": false
   },
   "outputs": [
    {
     "name": "stdout",
     "output_type": "stream",
     "text": [
      "Percentage of Cluster - 1 songs: 18.66 %\n",
      "Percentage of Cluster - 2 songs: 15.48 %\n",
      "Percentage of Cluster - 3 songs: 23.47 %\n",
      "Percentage of Cluster - 4 songs: 18.91 %\n",
      "Percentage of Cluster - 5 songs: 23.48 %\n"
     ]
    }
   ],
   "source": [
    "print ('Percentage of Cluster - 1 songs: %.2f %%' % ((data.groupby('cluster')['lyrics'].count()[1])*100.0/len(data)))\n",
    "print ('Percentage of Cluster - 2 songs: %.2f %%' % ((data.groupby('cluster')['lyrics'].count()[2])*100.0/len(data)))\n",
    "print ('Percentage of Cluster - 3 songs: %.2f %%' % ((data.groupby('cluster')['lyrics'].count()[3])*100.0/len(data)))\n",
    "print ('Percentage of Cluster - 4 songs: %.2f %%' % ((data.groupby('cluster')['lyrics'].count()[4])*100.0/len(data)))\n",
    "print ('Percentage of Cluster - 5 songs: %.2f %%' % ((data.groupby('cluster')['lyrics'].count()[5])*100.0/len(data)))"
   ]
  },
  {
   "cell_type": "code",
   "execution_count": 8,
   "metadata": {
    "collapsed": true
   },
   "outputs": [],
   "source": [
    "def splitLyrics(input_data):\n",
    "    c1 = data.loc[input_data['cluster']==1]\n",
    "    c2 = data.loc[input_data['cluster']==2]\n",
    "    c3 = data.loc[input_data['cluster']==3]\n",
    "    c4 = data.loc[input_data['cluster']==4]\n",
    "    c5 = data.loc[input_data['cluster']==5]\n",
    "    return [c1,c2,c3,c4,c5]"
   ]
  },
  {
   "cell_type": "code",
   "execution_count": 9,
   "metadata": {
    "collapsed": true
   },
   "outputs": [],
   "source": [
    "[c1,c2,c3,c4,c5] = splitLyrics(data)"
   ]
  },
  {
   "cell_type": "code",
   "execution_count": 10,
   "metadata": {
    "collapsed": true
   },
   "outputs": [],
   "source": [
    "''''port = PorterStemmer()\n",
    "wnl = WordNetLemmatizer()\n",
    "\n",
    "def preprocessing(line):\n",
    "    temp = \" \".join([wnl.lemmatize(i) for i in line.split()])\n",
    "    final = \" \".join([port.stem(i) for i in temp.split()])\n",
    "    final = final.lower().encode('utf-8')\n",
    "    return final'''''\n",
    "\n",
    "stemmer = PorterStemmer()\n",
    "lemmatizer = nltk.WordNetLemmatizer()\n",
    "stop = stopwords.words('english')\n",
    "translation = string.maketrans(string.punctuation,' '*len(string.punctuation))\n",
    "\n",
    "\n",
    "\n",
    "def preprocessing(line):\n",
    "    tokens=[]\n",
    "    line = line.translate(translation)\n",
    "    line = nltk.word_tokenize(line.lower())\n",
    "    for t in line:\n",
    "        if(1):\n",
    "            temp = lemmatizer.lemmatize(t)\n",
    "            stemmed = stemmer.stem(temp)\n",
    "            tokens.append(stemmed)\n",
    "    return ' '.join(tokens)"
   ]
  },
  {
   "cell_type": "code",
   "execution_count": 11,
   "metadata": {
    "collapsed": false
   },
   "outputs": [],
   "source": [
    "cluster_1 = []\n",
    "cluster_2 = []\n",
    "cluster_3 = []\n",
    "cluster_4 = []\n",
    "cluster_5 = []\n",
    "\n",
    "for i in c1['lyrics']:\n",
    "    cluster_1.append(preprocessing(i))\n",
    "    \n",
    "for i in c2['lyrics']:\n",
    "    cluster_2.append(preprocessing(i))\n",
    "    \n",
    "for i in c3['lyrics']:\n",
    "    cluster_3.append(preprocessing(i))\n",
    "    \n",
    "for i in c4['lyrics']:\n",
    "    cluster_4.append(preprocessing(i))\n",
    "    \n",
    "for i in c5['lyrics']:\n",
    "    cluster_5.append(preprocessing(i))\n",
    "    "
   ]
  },
  {
   "cell_type": "code",
   "execution_count": 12,
   "metadata": {
    "collapsed": true
   },
   "outputs": [],
   "source": [
    "data = cluster_1 + cluster_2 + cluster_3 + cluster_4 + cluster_5\n",
    "labels = np.concatenate((c1['cluster'].values,c2['cluster'].values,c3['cluster'].values,c4['cluster'].values,c5['cluster'].values))"
   ]
  },
  {
   "cell_type": "code",
   "execution_count": 78,
   "metadata": {
    "collapsed": false
   },
   "outputs": [],
   "source": [
    "[Data_train,Data_test,Train_labels,Test_labels] = train_test_split(data,labels , test_size=0.1, random_state=19071994,stratify=labels)"
   ]
  },
  {
   "cell_type": "code",
   "execution_count": 79,
   "metadata": {
    "collapsed": true
   },
   "outputs": [],
   "source": [
    "t = []\n",
    "for line in Data_train:\n",
    "    l = nltk.word_tokenize(line)\n",
    "    for w in l:\n",
    "        t.append(w)"
   ]
  },
  {
   "cell_type": "code",
   "execution_count": 80,
   "metadata": {
    "collapsed": false
   },
   "outputs": [
    {
     "name": "stdout",
     "output_type": "stream",
     "text": [
      "16272\n"
     ]
    }
   ],
   "source": [
    "word_features = nltk.FreqDist(t)\n",
    "print (len(word_features))"
   ]
  },
  {
   "cell_type": "code",
   "execution_count": 81,
   "metadata": {
    "collapsed": true
   },
   "outputs": [],
   "source": [
    "#PCA"
   ]
  },
  {
   "cell_type": "code",
   "execution_count": 82,
   "metadata": {
    "collapsed": true
   },
   "outputs": [],
   "source": [
    "vec_all = CountVectorizer()\n",
    "ctr_features_all = vec_all.fit_transform(Data_train)"
   ]
  },
  {
   "cell_type": "code",
   "execution_count": 83,
   "metadata": {
    "collapsed": true
   },
   "outputs": [],
   "source": [
    "tf_vec_all = TfidfTransformer()\n",
    "tr_features_all = tf_vec_all.fit_transform(ctr_features_all)"
   ]
  },
  {
   "cell_type": "code",
   "execution_count": 84,
   "metadata": {
    "collapsed": true
   },
   "outputs": [],
   "source": [
    "cte_features_all = vec_all.transform(Data_test)\n",
    "te_features_all = tf_vec_all.transform(cte_features_all)"
   ]
  },
  {
   "cell_type": "code",
   "execution_count": 85,
   "metadata": {
    "collapsed": true
   },
   "outputs": [],
   "source": [
    "svd = TruncatedSVD(n_components=200)\n",
    "tr_features_truncated = svd.fit_transform(tr_features_all)"
   ]
  },
  {
   "cell_type": "code",
   "execution_count": 86,
   "metadata": {
    "collapsed": true
   },
   "outputs": [],
   "source": [
    "te_features_truncated = svd.transform(te_features_all)"
   ]
  },
  {
   "cell_type": "code",
   "execution_count": 87,
   "metadata": {
    "collapsed": true
   },
   "outputs": [],
   "source": [
    "svd = TruncatedSVD(n_components=200)\n",
    "ctr_features_truncated = svd.fit_transform(ctr_features_all)\n",
    "cte_features_truncated = svd.transform(cte_features_all)"
   ]
  },
  {
   "cell_type": "code",
   "execution_count": 88,
   "metadata": {
    "collapsed": false
   },
   "outputs": [
    {
     "name": "stdout",
     "output_type": "stream",
     "text": [
      "(7199, 16237)\n"
     ]
    }
   ],
   "source": [
    "print (tr_features_all.shape)"
   ]
  },
  {
   "cell_type": "code",
   "execution_count": 89,
   "metadata": {
    "collapsed": true
   },
   "outputs": [],
   "source": [
    "#running different models"
   ]
  },
  {
   "cell_type": "code",
   "execution_count": 91,
   "metadata": {
    "collapsed": false
   },
   "outputs": [
    {
     "name": "stdout",
     "output_type": "stream",
     "text": [
      "BernoulliNB\n",
      "TF-IDF Accuracy\n",
      "0.2625\n",
      "Count Accuracy\n",
      "0.29375\n"
     ]
    }
   ],
   "source": [
    "BNB_clf = BernoulliNB(binarize=0.0)\n",
    "BNB_clf.fit(tr_features_truncated, Train_labels)\n",
    "tfpredict = BNB_clf.predict(te_features_truncated)\n",
    "tfaccuracy = metrics.accuracy_score(tfpredict,Test_labels)\n",
    "BNB_clf.fit(ctr_features_truncated,Train_labels)\n",
    "cprediction = BNB_clf.predict(cte_features_truncated)\n",
    "caccuracy = metrics.accuracy_score(cprediction,Test_labels)\n",
    "print (\"BernoulliNB\")\n",
    "print (\"TF-IDF Accuracy\")\n",
    "print (tfaccuracy)\n",
    "print (\"Count Accuracy\")\n",
    "print (caccuracy)"
   ]
  },
  {
   "cell_type": "code",
   "execution_count": 93,
   "metadata": {
    "collapsed": false
   },
   "outputs": [
    {
     "name": "stdout",
     "output_type": "stream",
     "text": [
      "-0.388203518767\n",
      "-63.2554906988\n"
     ]
    }
   ],
   "source": [
    "pos_tr_features_truncated = []\n",
    "xx=100005\n",
    "for row in tr_features_truncated:\n",
    "    lst = []\n",
    "    for col in row:\n",
    "        xx=min(xx,col)\n",
    "        lst.append(col+0.388203518768)\n",
    "    pos_tr_features_truncated.append(lst)\n",
    "    \n",
    "print (xx)\n",
    "    \n",
    "pos_ctr_features_truncated = []\n",
    "for row in ctr_features_truncated:\n",
    "    lst = []\n",
    "    for col in row:\n",
    "        xx=min(xx,col)\n",
    "        lst.append(col+63.2554906989)\n",
    "    pos_ctr_features_truncated.append(lst)\n",
    "print (xx)"
   ]
  },
  {
   "cell_type": "code",
   "execution_count": 94,
   "metadata": {
    "collapsed": false
   },
   "outputs": [
    {
     "name": "stdout",
     "output_type": "stream",
     "text": [
      "MultinomialNB\n",
      "TF-IDF Accuracy\n",
      "0.2975\n",
      "Count Accuracy\n",
      "0.235\n"
     ]
    }
   ],
   "source": [
    "MNB_clf = MultinomialNB(alpha=0.1)\n",
    "MNB_clf.fit(pos_tr_features_truncated, Train_labels)\n",
    "tfpredict = MNB_clf.predict(te_features_truncated)\n",
    "tfaccuracy = metrics.accuracy_score(tfpredict,Test_labels)\n",
    "MNB_clf.fit(pos_ctr_features_truncated,Train_labels)\n",
    "cprediction = MNB_clf.predict(cte_features_truncated)\n",
    "caccuracy = metrics.accuracy_score(cprediction,Test_labels)\n",
    "print (\"MultinomialNB\")\n",
    "print (\"TF-IDF Accuracy\")\n",
    "print (tfaccuracy)\n",
    "print (\"Count Accuracy\")\n",
    "print (caccuracy)"
   ]
  },
  {
   "cell_type": "code",
   "execution_count": 95,
   "metadata": {
    "collapsed": false
   },
   "outputs": [
    {
     "name": "stdout",
     "output_type": "stream",
     "text": [
      "Logistic\n",
      "TF-IDF Accuracy\n",
      "0.30625\n",
      "Count Accuracy\n",
      "0.29125\n"
     ]
    }
   ],
   "source": [
    "LR_clf = linear_model.LogisticRegression(C=1e5)\n",
    "LR_clf.fit(tr_features_truncated, Train_labels)\n",
    "tfpredict = LR_clf.predict(te_features_truncated)\n",
    "tfaccuracy = metrics.accuracy_score(tfpredict,Test_labels)\n",
    "LR_clf.fit(ctr_features_truncated,Train_labels)\n",
    "cprediction = LR_clf.predict(cte_features_truncated)\n",
    "caccuracy = metrics.accuracy_score(cprediction,Test_labels)\n",
    "print (\"Logistic\")\n",
    "print (\"TF-IDF Accuracy\")\n",
    "print (tfaccuracy)\n",
    "print (\"Count Accuracy\")\n",
    "print (caccuracy)"
   ]
  },
  {
   "cell_type": "code",
   "execution_count": 96,
   "metadata": {
    "collapsed": false
   },
   "outputs": [
    {
     "name": "stdout",
     "output_type": "stream",
     "text": [
      "SVC SVM\n",
      "TF-IDF Accuracy\n",
      "0.235\n",
      "Count Accuracy\n",
      "0.3025\n"
     ]
    }
   ],
   "source": [
    "SVC_clf = svm.SVC()\n",
    "SVC_clf.fit(tr_features_truncated, Train_labels)\n",
    "tfpredict = SVC_clf.predict(te_features_truncated)\n",
    "tfaccuracy = metrics.accuracy_score(tfpredict,Test_labels)\n",
    "SVC_clf.fit(ctr_features_truncated,Train_labels)\n",
    "cprediction = SVC_clf.predict(cte_features_truncated)\n",
    "caccuracy = metrics.accuracy_score(cprediction,Test_labels)\n",
    "print (\"SVC SVM\")\n",
    "print (\"TF-IDF Accuracy\")\n",
    "print (tfaccuracy)\n",
    "print (\"Count Accuracy\")\n",
    "print (caccuracy)"
   ]
  },
  {
   "cell_type": "code",
   "execution_count": 97,
   "metadata": {
    "collapsed": false
   },
   "outputs": [
    {
     "name": "stdout",
     "output_type": "stream",
     "text": [
      "nuSVC SVM\n",
      "TF-IDF Accuracy\n",
      "0.26625\n",
      "Count Accuracy\n",
      "0.295\n"
     ]
    }
   ],
   "source": [
    "NuSVC_clf = svm.NuSVC()\n",
    "NuSVC_clf.fit(tr_features_truncated, Train_labels)\n",
    "tfpredict = NuSVC_clf.predict(te_features_truncated)\n",
    "tfaccuracy = metrics.accuracy_score(tfpredict,Test_labels)\n",
    "NuSVC_clf.fit(ctr_features_truncated,Train_labels)\n",
    "cprediction = NuSVC_clf.predict(cte_features_truncated)\n",
    "caccuracy = metrics.accuracy_score(cprediction,Test_labels)\n",
    "print (\"nuSVC SVM\")\n",
    "print (\"TF-IDF Accuracy\")\n",
    "print (tfaccuracy)\n",
    "print (\"Count Accuracy\")\n",
    "print (caccuracy)"
   ]
  },
  {
   "cell_type": "code",
   "execution_count": 98,
   "metadata": {
    "collapsed": false
   },
   "outputs": [
    {
     "name": "stdout",
     "output_type": "stream",
     "text": [
      "LinearSVC\n",
      "TF-IDF Accuracy\n",
      "0.30625\n",
      "Count Accuracy\n",
      "0.2875\n"
     ]
    }
   ],
   "source": [
    "LinearSVC_clf = svm.LinearSVC()\n",
    "LinearSVC_clf.fit(tr_features_truncated, Train_labels)\n",
    "tfpredict = LinearSVC_clf.predict(te_features_truncated)\n",
    "tfaccuracy = metrics.accuracy_score(tfpredict,Test_labels)\n",
    "LinearSVC_clf.fit(ctr_features_truncated,Train_labels)\n",
    "cprediction = LinearSVC_clf.predict(cte_features_truncated)\n",
    "caccuracy = metrics.accuracy_score(cprediction,Test_labels)\n",
    "print (\"LinearSVC\")\n",
    "print (\"TF-IDF Accuracy\")\n",
    "print (tfaccuracy)\n",
    "print (\"Count Accuracy\")\n",
    "print (caccuracy)"
   ]
  },
  {
   "cell_type": "code",
   "execution_count": 99,
   "metadata": {
    "collapsed": false
   },
   "outputs": [
    {
     "name": "stdout",
     "output_type": "stream",
     "text": [
      "KNN\n",
      "TF-IDF Accuracy\n",
      "0.26625\n",
      "Count Accuracy\n",
      "0.2925\n"
     ]
    }
   ],
   "source": [
    "KNN_clf = KNeighborsClassifier(n_neighbors=5)\n",
    "KNN_clf.fit(tr_features_truncated, Train_labels)\n",
    "tfpredict = KNN_clf.predict(te_features_truncated)\n",
    "tfaccuracy = metrics.accuracy_score(tfpredict,Test_labels)\n",
    "KNN_clf.fit(ctr_features_truncated,Train_labels)\n",
    "cprediction = KNN_clf.predict(cte_features_truncated)\n",
    "caccuracy = metrics.accuracy_score(cprediction,Test_labels)\n",
    "print (\"KNN\")\n",
    "print (\"TF-IDF Accuracy\")\n",
    "print (tfaccuracy)\n",
    "print (\"Count Accuracy\")\n",
    "print (caccuracy)"
   ]
  },
  {
   "cell_type": "code",
   "execution_count": 100,
   "metadata": {
    "collapsed": false
   },
   "outputs": [
    {
     "name": "stdout",
     "output_type": "stream",
     "text": [
      "Perceptron\n",
      "TF-IDF Accuracy\n",
      "0.19125\n",
      "Count Accuracy\n",
      "0.22\n"
     ]
    }
   ],
   "source": [
    "P_clf = linear_model.Perceptron(n_iter=1000)\n",
    "P_clf.fit(tr_features_truncated, Train_labels)\n",
    "tfpredict = P_clf.predict(te_features_truncated)\n",
    "tfaccuracy = metrics.accuracy_score(tfpredict,Test_labels)\n",
    "P_clf.fit(ctr_features_truncated,Train_labels)\n",
    "cprediction = P_clf.predict(cte_features_truncated)\n",
    "caccuracy = metrics.accuracy_score(cprediction,Test_labels)\n",
    "print (\"Perceptron\")\n",
    "print (\"TF-IDF Accuracy\")\n",
    "print (tfaccuracy)\n",
    "print (\"Count Accuracy\")\n",
    "print (caccuracy)"
   ]
  },
  {
   "cell_type": "code",
   "execution_count": 101,
   "metadata": {
    "collapsed": false
   },
   "outputs": [
    {
     "name": "stdout",
     "output_type": "stream",
     "text": [
      "Decision Tree\n",
      "TF-IDF Accuracy\n",
      "0.27\n",
      "Count Accuracy\n",
      "0.27375\n"
     ]
    }
   ],
   "source": [
    "DT_clf = DecisionTreeClassifier(random_state=20160121, criterion='entropy')\n",
    "DT_clf.fit(tr_features_truncated, Train_labels)\n",
    "tfpredict = DT_clf.predict(te_features_truncated)\n",
    "tfaccuracy = metrics.accuracy_score(tfpredict,Test_labels)\n",
    "DT_clf.fit(ctr_features_truncated,Train_labels)\n",
    "cprediction = DT_clf.predict(cte_features_truncated)\n",
    "caccuracy = metrics.accuracy_score(cprediction,Test_labels)\n",
    "print (\"Decision Tree\")\n",
    "print (\"TF-IDF Accuracy\")\n",
    "print (tfaccuracy)\n",
    "print (\"Count Accuracy\")\n",
    "print (caccuracy)"
   ]
  },
  {
   "cell_type": "code",
   "execution_count": 102,
   "metadata": {
    "collapsed": true
   },
   "outputs": [],
   "source": [
    "#Feature Selection"
   ]
  },
  {
   "cell_type": "code",
   "execution_count": 103,
   "metadata": {
    "collapsed": true
   },
   "outputs": [],
   "source": [
    "topwords = [fpair[0] for fpair in list(word_features.most_common(8500))]"
   ]
  },
  {
   "cell_type": "code",
   "execution_count": 104,
   "metadata": {
    "collapsed": false
   },
   "outputs": [
    {
     "name": "stdout",
     "output_type": "stream",
     "text": [
      "[(u'i', 66735), (u'the', 61344), (u'you', 59216), (u'a', 39609), (u'to', 35711), (u'and', 33413), (u'it', 27661), (u's', 26568), (u'me', 22831), (u't', 22550), (u'in', 21126), (u'my', 20204), (u'that', 16182), (u'of', 16165), (u'on', 14882), (u'love', 13013), (u'your', 12862), (u'm', 12833), (u'is', 12037), (u'be', 11304)]\n"
     ]
    }
   ],
   "source": [
    "print (word_features.most_common(20))"
   ]
  },
  {
   "cell_type": "code",
   "execution_count": 105,
   "metadata": {
    "collapsed": false
   },
   "outputs": [
    {
     "data": {
      "text/plain": [
       "<matplotlib.axes._subplots.AxesSubplot at 0x7fb9da503190>"
      ]
     },
     "execution_count": 105,
     "metadata": {},
     "output_type": "execute_result"
    },
    {
     "data": {
      "image/png": "[encoded data removed]",
      "text/plain": [
       "<matplotlib.figure.Figure at 0x7fb9dc08fe90>"
      ]
     },
     "metadata": {},
     "output_type": "display_data"
    }
   ],
   "source": [
    "word_his = pd.DataFrame(word_features.most_common(25),columns=['words','count'])\n",
    "word_his.plot(kind='bar',x=word_his['words'],legend=False,title='Top 20 most freq words',figsize=(10,6))"
   ]
  },
  {
   "cell_type": "code",
   "execution_count": 106,
   "metadata": {
    "collapsed": false
   },
   "outputs": [],
   "source": [
    "vec = CountVectorizer()\n",
    "c_fit = vec.fit_transform([' '.join(topwords)])"
   ]
  },
  {
   "cell_type": "code",
   "execution_count": 107,
   "metadata": {
    "collapsed": true
   },
   "outputs": [],
   "source": [
    "tf_vec = TfidfTransformer()\n",
    "tf_fit = tf_vec.fit_transform(c_fit)"
   ]
  },
  {
   "cell_type": "code",
   "execution_count": 108,
   "metadata": {
    "collapsed": true
   },
   "outputs": [],
   "source": [
    "ctr_features = vec.transform(Data_train)\n",
    "tr_features = tf_vec.transform(ctr_features)"
   ]
  },
  {
   "cell_type": "code",
   "execution_count": 109,
   "metadata": {
    "collapsed": true
   },
   "outputs": [],
   "source": [
    "cte_features = vec.transform(Data_test)\n",
    "te_features = tf_vec.transform(cte_features)"
   ]
  },
  {
   "cell_type": "code",
   "execution_count": 110,
   "metadata": {
    "collapsed": true
   },
   "outputs": [],
   "source": [
    "#running different models for feature selection"
   ]
  },
  {
   "cell_type": "code",
   "execution_count": 111,
   "metadata": {
    "collapsed": false
   },
   "outputs": [
    {
     "name": "stdout",
     "output_type": "stream",
     "text": [
      "BernoulliNB\n",
      "TF-IDF Accuracy\n",
      "0.29375\n",
      "Count Accuracy\n",
      "0.29375\n"
     ]
    }
   ],
   "source": [
    "BNB_clf = BernoulliNB(binarize=0.0)\n",
    "BNB_clf.fit(tr_features, Train_labels)\n",
    "tfpredict = BNB_clf.predict(te_features)\n",
    "tfaccuracy = metrics.accuracy_score(tfpredict,Test_labels)\n",
    "BNB_clf.fit(ctr_features,Train_labels)\n",
    "cprediction = BNB_clf.predict(cte_features)\n",
    "caccuracy = metrics.accuracy_score(cprediction,Test_labels)\n",
    "print (\"BernoulliNB\")\n",
    "print (\"TF-IDF Accuracy\")\n",
    "print (tfaccuracy)\n",
    "print (\"Count Accuracy\")\n",
    "print (caccuracy)"
   ]
  },
  {
   "cell_type": "code",
   "execution_count": 112,
   "metadata": {
    "collapsed": false
   },
   "outputs": [
    {
     "name": "stdout",
     "output_type": "stream",
     "text": [
      "MultinomialNB\n",
      "TF-IDF Accuracy\n",
      "0.3125\n",
      "Count Accuracy\n",
      "0.3225\n"
     ]
    }
   ],
   "source": [
    "MNB_clf = MultinomialNB()\n",
    "MNB_clf.fit(tr_features, Train_labels)\n",
    "tfpredict = MNB_clf.predict(te_features)\n",
    "tfaccuracy = metrics.accuracy_score(tfpredict,Test_labels)\n",
    "MNB_clf.fit(ctr_features,Train_labels)\n",
    "cprediction = MNB_clf.predict(cte_features)\n",
    "caccuracy = metrics.accuracy_score(cprediction,Test_labels)\n",
    "print (\"MultinomialNB\")\n",
    "print (\"TF-IDF Accuracy\")\n",
    "print (tfaccuracy)\n",
    "print (\"Count Accuracy\")\n",
    "print (caccuracy)"
   ]
  },
  {
   "cell_type": "code",
   "execution_count": 113,
   "metadata": {
    "collapsed": false
   },
   "outputs": [
    {
     "name": "stdout",
     "output_type": "stream",
     "text": [
      "Logistic\n",
      "TF-IDF Accuracy\n",
      "0.2925\n",
      "Count Accuracy\n",
      "0.29625\n"
     ]
    }
   ],
   "source": [
    "LR_clf = linear_model.LogisticRegression(C=1e5)\n",
    "LR_clf.fit(tr_features, Train_labels)\n",
    "tfpredict = LR_clf.predict(te_features)\n",
    "tfaccuracy = metrics.accuracy_score(tfpredict,Test_labels)\n",
    "LR_clf.fit(ctr_features,Train_labels)\n",
    "cprediction = LR_clf.predict(cte_features)\n",
    "caccuracy = metrics.accuracy_score(cprediction,Test_labels)\n",
    "print (\"Logistic\")\n",
    "print (\"TF-IDF Accuracy\")\n",
    "print (tfaccuracy)\n",
    "print (\"Count Accuracy\")\n",
    "print (caccuracy)"
   ]
  },
  {
   "cell_type": "code",
   "execution_count": 114,
   "metadata": {
    "collapsed": false
   },
   "outputs": [
    {
     "name": "stdout",
     "output_type": "stream",
     "text": [
      "SVC SVM\n",
      "TF-IDF Accuracy\n",
      "0.235\n",
      "Count Accuracy\n",
      "0.31125\n"
     ]
    }
   ],
   "source": [
    "SVC_clf = svm.SVC()\n",
    "SVC_clf.fit(tr_features, Train_labels)\n",
    "tfpredict = SVC_clf.predict(te_features)\n",
    "tfaccuracy = metrics.accuracy_score(tfpredict,Test_labels)\n",
    "SVC_clf.fit(ctr_features,Train_labels)\n",
    "cprediction = SVC_clf.predict(cte_features)\n",
    "caccuracy = metrics.accuracy_score(cprediction,Test_labels)\n",
    "print (\"SVC SVM\")\n",
    "print (\"TF-IDF Accuracy\")\n",
    "print (tfaccuracy)\n",
    "print (\"Count Accuracy\")\n",
    "print (caccuracy)"
   ]
  },
  {
   "cell_type": "code",
   "execution_count": 115,
   "metadata": {
    "collapsed": false
   },
   "outputs": [
    {
     "name": "stdout",
     "output_type": "stream",
     "text": [
      "nuSVC SVM\n",
      "TF-IDF Accuracy\n",
      "0.2225\n",
      "Count Accuracy\n",
      "0.30625\n"
     ]
    }
   ],
   "source": [
    "NuSVC_clf = svm.NuSVC()\n",
    "NuSVC_clf.fit(tr_features, Train_labels)\n",
    "tfpredict = NuSVC_clf.predict(te_features)\n",
    "tfaccuracy = metrics.accuracy_score(tfpredict,Test_labels)\n",
    "NuSVC_clf.fit(ctr_features,Train_labels)\n",
    "cprediction = NuSVC_clf.predict(cte_features)\n",
    "caccuracy = metrics.accuracy_score(cprediction,Test_labels)\n",
    "print (\"nuSVC SVM\")\n",
    "print (\"TF-IDF Accuracy\")\n",
    "print (tfaccuracy)\n",
    "print (\"Count Accuracy\")\n",
    "print (caccuracy)"
   ]
  },
  {
   "cell_type": "code",
   "execution_count": 116,
   "metadata": {
    "collapsed": false
   },
   "outputs": [
    {
     "name": "stdout",
     "output_type": "stream",
     "text": [
      "LinearSVC\n",
      "TF-IDF Accuracy\n",
      "0.3275\n",
      "Count Accuracy\n",
      "0.285\n"
     ]
    }
   ],
   "source": [
    "LinearSVC_clf = svm.LinearSVC()\n",
    "LinearSVC_clf.fit(tr_features, Train_labels)\n",
    "tfpredict = LinearSVC_clf.predict(te_features)\n",
    "tfaccuracy = metrics.accuracy_score(tfpredict,Test_labels)\n",
    "LinearSVC_clf.fit(ctr_features,Train_labels)\n",
    "cprediction = LinearSVC_clf.predict(cte_features)\n",
    "caccuracy = metrics.accuracy_score(cprediction,Test_labels)\n",
    "print (\"LinearSVC\")\n",
    "print (\"TF-IDF Accuracy\")\n",
    "print (tfaccuracy)\n",
    "print (\"Count Accuracy\")\n",
    "print (caccuracy)"
   ]
  },
  {
   "cell_type": "code",
   "execution_count": 117,
   "metadata": {
    "collapsed": false
   },
   "outputs": [
    {
     "name": "stdout",
     "output_type": "stream",
     "text": [
      "KNN\n",
      "TF-IDF Accuracy\n",
      "0.26375\n",
      "Count Accuracy\n",
      "0.26625\n"
     ]
    }
   ],
   "source": [
    "KNN_clf = KNeighborsClassifier(n_neighbors=5)\n",
    "KNN_clf.fit(tr_features, Train_labels)\n",
    "tfpredict = KNN_clf.predict(te_features)\n",
    "tfaccuracy = metrics.accuracy_score(tfpredict,Test_labels)\n",
    "KNN_clf.fit(ctr_features,Train_labels)\n",
    "cprediction = KNN_clf.predict(cte_features)\n",
    "caccuracy = metrics.accuracy_score(cprediction,Test_labels)\n",
    "print (\"KNN\")\n",
    "print (\"TF-IDF Accuracy\")\n",
    "print (tfaccuracy)\n",
    "print (\"Count Accuracy\")\n",
    "print (caccuracy)"
   ]
  },
  {
   "cell_type": "code",
   "execution_count": 118,
   "metadata": {
    "collapsed": false
   },
   "outputs": [
    {
     "name": "stdout",
     "output_type": "stream",
     "text": [
      "Perceptron\n",
      "TF-IDF Accuracy\n",
      "0.2175\n",
      "Count Accuracy\n",
      "0.255\n"
     ]
    }
   ],
   "source": [
    "P_clf = linear_model.Perceptron(n_iter=1000)\n",
    "P_clf.fit(tr_features, Train_labels)\n",
    "tfpredict = P_clf.predict(te_features)\n",
    "tfaccuracy = metrics.accuracy_score(tfpredict,Test_labels)\n",
    "P_clf.fit(ctr_features,Train_labels)\n",
    "cprediction = P_clf.predict(cte_features)\n",
    "caccuracy = metrics.accuracy_score(cprediction,Test_labels)\n",
    "print (\"Perceptron\")\n",
    "print (\"TF-IDF Accuracy\")\n",
    "print (tfaccuracy)\n",
    "print (\"Count Accuracy\")\n",
    "print (caccuracy)"
   ]
  },
  {
   "cell_type": "code",
   "execution_count": 119,
   "metadata": {
    "collapsed": false
   },
   "outputs": [
    {
     "name": "stdout",
     "output_type": "stream",
     "text": [
      "Decision Tree\n",
      "TF-IDF Accuracy\n",
      "0.2775\n",
      "Count Accuracy\n",
      "0.2625\n"
     ]
    }
   ],
   "source": [
    "DT_clf = DecisionTreeClassifier(random_state=20160121, criterion='entropy')\n",
    "DT_clf.fit(tr_features, Train_labels)\n",
    "tfpredict = DT_clf.predict(te_features)\n",
    "tfaccuracy = metrics.accuracy_score(tfpredict,Test_labels)\n",
    "DT_clf.fit(ctr_features,Train_labels)\n",
    "cprediction = DT_clf.predict(cte_features)\n",
    "caccuracy = metrics.accuracy_score(cprediction,Test_labels)\n",
    "print (\"Decision Tree\")\n",
    "print (\"TF-IDF Accuracy\")\n",
    "print (tfaccuracy)\n",
    "print (\"Count Accuracy\")\n",
    "print (caccuracy)"
   ]
  },
  {
   "cell_type": "code",
   "execution_count": 120,
   "metadata": {
    "collapsed": true
   },
   "outputs": [],
   "source": [
    "# Using Bigrams"
   ]
  },
  {
   "cell_type": "code",
   "execution_count": 121,
   "metadata": {
    "collapsed": true
   },
   "outputs": [],
   "source": [
    "vec_all = CountVectorizer(ngram_range=(1,2))\n",
    "ctr_features_all = vec_all.fit_transform(Data_train)"
   ]
  },
  {
   "cell_type": "code",
   "execution_count": 122,
   "metadata": {
    "collapsed": true
   },
   "outputs": [],
   "source": [
    "tf_vec_all = TfidfTransformer()\n",
    "tr_features_all = tf_vec_all.fit_transform(ctr_features_all)"
   ]
  },
  {
   "cell_type": "code",
   "execution_count": 123,
   "metadata": {
    "collapsed": true
   },
   "outputs": [],
   "source": [
    "cte_features_all = vec_all.transform(Data_test)\n",
    "te_features_all = tf_vec_all.transform(cte_features_all)"
   ]
  },
  {
   "cell_type": "code",
   "execution_count": 124,
   "metadata": {
    "collapsed": false
   },
   "outputs": [
    {
     "name": "stdout",
     "output_type": "stream",
     "text": [
      "(7199, 144711)\n"
     ]
    }
   ],
   "source": [
    "print ((ctr_features_all.shape))"
   ]
  },
  {
   "cell_type": "code",
   "execution_count": 125,
   "metadata": {
    "collapsed": false
   },
   "outputs": [
    {
     "name": "stdout",
     "output_type": "stream",
     "text": [
      "BernoulliNB\n",
      "TF-IDF Accuracy\n",
      "0.295\n",
      "Count Accuracy\n",
      "0.295\n"
     ]
    }
   ],
   "source": [
    "BNB_clf = BernoulliNB(binarize=0.0)\n",
    "BNB_clf.fit(tr_features_all, Train_labels)\n",
    "tfpredict = BNB_clf.predict(te_features_all)\n",
    "tfaccuracy = metrics.accuracy_score(tfpredict,Test_labels)\n",
    "BNB_clf.fit(ctr_features_all,Train_labels)\n",
    "cprediction = BNB_clf.predict(cte_features_all)\n",
    "caccuracy = metrics.accuracy_score(cprediction,Test_labels)\n",
    "print (\"BernoulliNB\")\n",
    "print (\"TF-IDF Accuracy\")\n",
    "print (tfaccuracy)\n",
    "print (\"Count Accuracy\")\n",
    "print (caccuracy)"
   ]
  },
  {
   "cell_type": "code",
   "execution_count": 126,
   "metadata": {
    "collapsed": false
   },
   "outputs": [
    {
     "name": "stdout",
     "output_type": "stream",
     "text": [
      "MultinomialNB\n",
      "TF-IDF Accuracy\n",
      "0.30375\n",
      "Count Accuracy\n",
      "0.29875\n"
     ]
    }
   ],
   "source": [
    "MNB_clf = MultinomialNB()\n",
    "MNB_clf.fit(tr_features_all, Train_labels)\n",
    "tfpredict = MNB_clf.predict(te_features_all)\n",
    "tfaccuracy = metrics.accuracy_score(tfpredict,Test_labels)\n",
    "MNB_clf.fit(ctr_features_all,Train_labels)\n",
    "cprediction = MNB_clf.predict(cte_features_all)\n",
    "caccuracy = metrics.accuracy_score(cprediction,Test_labels)\n",
    "print (\"MultinomialNB\")\n",
    "print (\"TF-IDF Accuracy\")\n",
    "print (tfaccuracy)\n",
    "print (\"Count Accuracy\")\n",
    "print (caccuracy)"
   ]
  },
  {
   "cell_type": "code",
   "execution_count": 127,
   "metadata": {
    "collapsed": false
   },
   "outputs": [
    {
     "name": "stdout",
     "output_type": "stream",
     "text": [
      "Logistic\n",
      "TF-IDF Accuracy\n",
      "0.28875\n",
      "Count Accuracy\n",
      "0.2975\n"
     ]
    }
   ],
   "source": [
    "LR_clf = linear_model.LogisticRegression(C=1e5)\n",
    "LR_clf.fit(tr_features_all, Train_labels)\n",
    "tfpredict = LR_clf.predict(te_features_all)\n",
    "tfaccuracy = metrics.accuracy_score(tfpredict,Test_labels)\n",
    "LR_clf.fit(ctr_features_all,Train_labels)\n",
    "cprediction = LR_clf.predict(cte_features_all)\n",
    "caccuracy = metrics.accuracy_score(cprediction,Test_labels)\n",
    "print (\"Logistic\")\n",
    "print (\"TF-IDF Accuracy\")\n",
    "print (tfaccuracy)\n",
    "print (\"Count Accuracy\")\n",
    "print (caccuracy)"
   ]
  },
  {
   "cell_type": "code",
   "execution_count": 128,
   "metadata": {
    "collapsed": false
   },
   "outputs": [
    {
     "name": "stdout",
     "output_type": "stream",
     "text": [
      "SVC SVM\n",
      "TF-IDF Accuracy\n",
      "0.235\n",
      "Count Accuracy\n",
      "0.2675\n"
     ]
    }
   ],
   "source": [
    "SVC_clf = svm.SVC()\n",
    "SVC_clf.fit(tr_features_all, Train_labels)\n",
    "tfpredict = SVC_clf.predict(te_features_all)\n",
    "tfaccuracy = metrics.accuracy_score(tfpredict,Test_labels)\n",
    "SVC_clf.fit(ctr_features_all,Train_labels)\n",
    "cprediction = SVC_clf.predict(cte_features_all)\n",
    "caccuracy = metrics.accuracy_score(cprediction,Test_labels)\n",
    "print (\"SVC SVM\")\n",
    "print (\"TF-IDF Accuracy\")\n",
    "print (tfaccuracy)\n",
    "print (\"Count Accuracy\")\n",
    "print (caccuracy)"
   ]
  },
  {
   "cell_type": "code",
   "execution_count": 77,
   "metadata": {
    "collapsed": false
   },
   "outputs": [
    {
     "name": "stdout",
     "output_type": "stream",
     "text": [
      "nuSVC SVM\n",
      "TF-IDF Accuracy\n",
      "0.20625\n",
      "Count Accuracy\n",
      "0.2975\n"
     ]
    }
   ],
   "source": [
    "NuSVC_clf = svm.NuSVC()\n",
    "NuSVC_clf.fit(tr_features_all, Train_labels)\n",
    "tfpredict = NuSVC_clf.predict(te_features_all)\n",
    "tfaccuracy = metrics.accuracy_score(tfpredict,Test_labels)\n",
    "NuSVC_clf.fit(ctr_features_all,Train_labels)\n",
    "cprediction = NuSVC_clf.predict(cte_features_all)\n",
    "caccuracy = metrics.accuracy_score(cprediction,Test_labels)\n",
    "print (\"nuSVC SVM\")\n",
    "print (\"TF-IDF Accuracy\")\n",
    "print (tfaccuracy)\n",
    "print (\"Count Accuracy\")\n",
    "print (caccuracy)"
   ]
  },
  {
   "cell_type": "code",
   "execution_count": 78,
   "metadata": {
    "collapsed": false
   },
   "outputs": [
    {
     "name": "stdout",
     "output_type": "stream",
     "text": [
      "LinearSVC\n",
      "TF-IDF Accuracy\n",
      "0.30625\n",
      "Count Accuracy\n",
      "0.255\n"
     ]
    }
   ],
   "source": [
    "LinearSVC_clf = svm.LinearSVC()\n",
    "LinearSVC_clf.fit(tr_features_all, Train_labels)\n",
    "tfpredict = LinearSVC_clf.predict(te_features_all)\n",
    "tfaccuracy = metrics.accuracy_score(tfpredict,Test_labels)\n",
    "LinearSVC_clf.fit(ctr_features_all,Train_labels)\n",
    "cprediction = LinearSVC_clf.predict(cte_features_all)\n",
    "caccuracy = metrics.accuracy_score(cprediction,Test_labels)\n",
    "print (\"LinearSVC\")\n",
    "print (\"TF-IDF Accuracy\")\n",
    "print (tfaccuracy)\n",
    "print (\"Count Accuracy\")\n",
    "print (caccuracy)"
   ]
  },
  {
   "cell_type": "code",
   "execution_count": 79,
   "metadata": {
    "collapsed": false
   },
   "outputs": [
    {
     "name": "stdout",
     "output_type": "stream",
     "text": [
      "KNN\n",
      "TF-IDF Accuracy\n",
      "0.2875\n",
      "Count Accuracy\n",
      "0.2475\n"
     ]
    }
   ],
   "source": [
    "KNN_clf = KNeighborsClassifier(n_neighbors=5)\n",
    "KNN_clf.fit(tr_features_all, Train_labels)\n",
    "tfpredict = KNN_clf.predict(te_features_all)\n",
    "tfaccuracy = metrics.accuracy_score(tfpredict,Test_labels)\n",
    "KNN_clf.fit(ctr_features_all,Train_labels)\n",
    "cprediction = KNN_clf.predict(cte_features_all)\n",
    "caccuracy = metrics.accuracy_score(cprediction,Test_labels)\n",
    "print (\"KNN\")\n",
    "print (\"TF-IDF Accuracy\")\n",
    "print (tfaccuracy)\n",
    "print (\"Count Accuracy\")\n",
    "print (caccuracy)"
   ]
  },
  {
   "cell_type": "code",
   "execution_count": 80,
   "metadata": {
    "collapsed": false
   },
   "outputs": [
    {
     "name": "stdout",
     "output_type": "stream",
     "text": [
      "Perceptron\n",
      "TF-IDF Accuracy\n",
      "0.26125\n",
      "Count Accuracy\n",
      "0.255\n"
     ]
    }
   ],
   "source": [
    "P_clf = linear_model.Perceptron(n_iter=1000)\n",
    "P_clf.fit(tr_features_all, Train_labels)\n",
    "tfpredict = P_clf.predict(te_features_all)\n",
    "tfaccuracy = metrics.accuracy_score(tfpredict,Test_labels)\n",
    "P_clf.fit(ctr_features_all,Train_labels)\n",
    "cprediction = P_clf.predict(cte_features_all)\n",
    "caccuracy = metrics.accuracy_score(cprediction,Test_labels)\n",
    "print (\"Perceptron\")\n",
    "print (\"TF-IDF Accuracy\")\n",
    "print (tfaccuracy)\n",
    "print (\"Count Accuracy\")\n",
    "print (caccuracy)"
   ]
  },
  {
   "cell_type": "code",
   "execution_count": 81,
   "metadata": {
    "collapsed": false
   },
   "outputs": [
    {
     "name": "stdout",
     "output_type": "stream",
     "text": [
      "Decision Tree\n",
      "TF-IDF Accuracy\n",
      "0.275\n",
      "Count Accuracy\n",
      "0.27875\n"
     ]
    }
   ],
   "source": [
    "DT_clf = DecisionTreeClassifier(random_state=20160121, criterion='entropy')\n",
    "DT_clf.fit(tr_features_all, Train_labels)\n",
    "tfpredict = DT_clf.predict(te_features_all)\n",
    "tfaccuracy = metrics.accuracy_score(tfpredict,Test_labels)\n",
    "DT_clf.fit(ctr_features_all,Train_labels)\n",
    "cprediction = DT_clf.predict(cte_features_all)\n",
    "caccuracy = metrics.accuracy_score(cprediction,Test_labels)\n",
    "print (\"Decision Tree\")\n",
    "print (\"TF-IDF Accuracy\")\n",
    "print (tfaccuracy)\n",
    "print (\"Count Accuracy\")\n",
    "print (caccuracy)"
   ]
  },
  {
   "cell_type": "code",
   "execution_count": 82,
   "metadata": {
    "collapsed": true
   },
   "outputs": [],
   "source": [
    "#Using Trigrams"
   ]
  },
  {
   "cell_type": "code",
   "execution_count": 129,
   "metadata": {
    "collapsed": true
   },
   "outputs": [],
   "source": [
    "## using countvectorizer to generate count vectors for the training data.\n",
    "vec_all = CountVectorizer(ngram_range=(1,3))\n",
    "ctr_features_all = vec_all.fit_transform(Data_train)"
   ]
  },
  {
   "cell_type": "code",
   "execution_count": 130,
   "metadata": {
    "collapsed": true
   },
   "outputs": [],
   "source": [
    "tf_vec_all = TfidfTransformer()\n",
    "tr_features_all = tf_vec_all.fit_transform(ctr_features_all)"
   ]
  },
  {
   "cell_type": "code",
   "execution_count": 131,
   "metadata": {
    "collapsed": true
   },
   "outputs": [],
   "source": [
    "cte_features_all = vec_all.transform(Data_test)\n",
    "te_features_all = tf_vec_all.transform(cte_features_all)"
   ]
  },
  {
   "cell_type": "code",
   "execution_count": 132,
   "metadata": {
    "collapsed": false
   },
   "outputs": [
    {
     "name": "stdout",
     "output_type": "stream",
     "text": [
      "(7199, 395364)\n"
     ]
    }
   ],
   "source": [
    "print ((ctr_features_all.shape))"
   ]
  },
  {
   "cell_type": "code",
   "execution_count": 133,
   "metadata": {
    "collapsed": false
   },
   "outputs": [
    {
     "name": "stdout",
     "output_type": "stream",
     "text": [
      "BernoulliNB\n",
      "TF-IDF Accuracy\n",
      "0.29375\n",
      "Count Accuracy\n",
      "0.29375\n"
     ]
    }
   ],
   "source": [
    "BNB_clf = BernoulliNB(binarize=0.0)\n",
    "BNB_clf.fit(tr_features_all, Train_labels)\n",
    "tfpredict = BNB_clf.predict(te_features_all)\n",
    "tfaccuracy = metrics.accuracy_score(tfpredict,Test_labels)\n",
    "BNB_clf.fit(ctr_features_all,Train_labels)\n",
    "cprediction = BNB_clf.predict(cte_features_all)\n",
    "caccuracy = metrics.accuracy_score(cprediction,Test_labels)\n",
    "print (\"BernoulliNB\")\n",
    "print (\"TF-IDF Accuracy\")\n",
    "print (tfaccuracy)\n",
    "print (\"Count Accuracy\")\n",
    "print (caccuracy)"
   ]
  },
  {
   "cell_type": "code",
   "execution_count": 134,
   "metadata": {
    "collapsed": false
   },
   "outputs": [
    {
     "name": "stdout",
     "output_type": "stream",
     "text": [
      "MultinomialNB\n",
      "TF-IDF Accuracy\n",
      "0.30625\n",
      "Count Accuracy\n",
      "0.29625\n"
     ]
    }
   ],
   "source": [
    "MNB_clf = MultinomialNB()\n",
    "MNB_clf.fit(tr_features_all, Train_labels)\n",
    "tfpredict = MNB_clf.predict(te_features_all)\n",
    "tfaccuracy = metrics.accuracy_score(tfpredict,Test_labels)\n",
    "MNB_clf.fit(ctr_features_all,Train_labels)\n",
    "cprediction = MNB_clf.predict(cte_features_all)\n",
    "caccuracy = metrics.accuracy_score(cprediction,Test_labels)\n",
    "print (\"MultinomialNB\")\n",
    "print (\"TF-IDF Accuracy\")\n",
    "print (tfaccuracy)\n",
    "print (\"Count Accuracy\")\n",
    "print (caccuracy)"
   ]
  },
  {
   "cell_type": "code",
   "execution_count": 89,
   "metadata": {
    "collapsed": false
   },
   "outputs": [
    {
     "name": "stdout",
     "output_type": "stream",
     "text": [
      "Logistic\n",
      "TF-IDF Accuracy\n",
      "0.30125\n",
      "Count Accuracy\n",
      "0.29125\n"
     ]
    }
   ],
   "source": [
    "LR_clf = linear_model.LogisticRegression(C=1e5)\n",
    "LR_clf.fit(tr_features_all, Train_labels)\n",
    "tfpredict = LR_clf.predict(te_features_all)\n",
    "tfaccuracy = metrics.accuracy_score(tfpredict,Test_labels)\n",
    "LR_clf.fit(ctr_features_all,Train_labels)\n",
    "cprediction = LR_clf.predict(cte_features_all)\n",
    "caccuracy = metrics.accuracy_score(cprediction,Test_labels)\n",
    "print (\"Logistic\")\n",
    "print (\"TF-IDF Accuracy\")\n",
    "print (tfaccuracy)\n",
    "print (\"Count Accuracy\")\n",
    "print (caccuracy)"
   ]
  },
  {
   "cell_type": "code",
   "execution_count": 90,
   "metadata": {
    "collapsed": false,
    "scrolled": true
   },
   "outputs": [
    {
     "name": "stdout",
     "output_type": "stream",
     "text": [
      "SVC SVM\n",
      "TF-IDF Accuracy\n",
      "0.235\n",
      "Count Accuracy\n",
      "0.245\n"
     ]
    }
   ],
   "source": [
    "SVC_clf = svm.SVC()\n",
    "SVC_clf.fit(tr_features_all, Train_labels)\n",
    "tfpredict = SVC_clf.predict(te_features_all)\n",
    "tfaccuracy = metrics.accuracy_score(tfpredict,Test_labels)\n",
    "SVC_clf.fit(ctr_features_all,Train_labels)\n",
    "cprediction = SVC_clf.predict(cte_features_all)\n",
    "caccuracy = metrics.accuracy_score(cprediction,Test_labels)\n",
    "print (\"SVC SVM\")\n",
    "print (\"TF-IDF Accuracy\")\n",
    "print (tfaccuracy)\n",
    "print (\"Count Accuracy\")\n",
    "print (caccuracy)"
   ]
  },
  {
   "cell_type": "code",
   "execution_count": 91,
   "metadata": {
    "collapsed": false
   },
   "outputs": [
    {
     "name": "stdout",
     "output_type": "stream",
     "text": [
      "nuSVC SVM\n",
      "TF-IDF Accuracy\n",
      "0.175\n",
      "Count Accuracy\n",
      "0.31375\n"
     ]
    }
   ],
   "source": [
    "NuSVC_clf = svm.NuSVC()\n",
    "NuSVC_clf.fit(tr_features_all, Train_labels)\n",
    "tfpredict = NuSVC_clf.predict(te_features_all)\n",
    "tfaccuracy = metrics.accuracy_score(tfpredict,Test_labels)\n",
    "NuSVC_clf.fit(ctr_features_all,Train_labels)\n",
    "cprediction = NuSVC_clf.predict(cte_features_all)\n",
    "caccuracy = metrics.accuracy_score(cprediction,Test_labels)\n",
    "print (\"nuSVC SVM\")\n",
    "print (\"TF-IDF Accuracy\")\n",
    "print (tfaccuracy)\n",
    "print (\"Count Accuracy\")\n",
    "print (caccuracy)"
   ]
  },
  {
   "cell_type": "code",
   "execution_count": 92,
   "metadata": {
    "collapsed": false
   },
   "outputs": [
    {
     "name": "stdout",
     "output_type": "stream",
     "text": [
      "LinearSVC\n",
      "TF-IDF Accuracy\n",
      "0.31\n",
      "Count Accuracy\n",
      "0.2775\n"
     ]
    }
   ],
   "source": [
    "LinearSVC_clf = svm.LinearSVC()\n",
    "LinearSVC_clf.fit(tr_features_all, Train_labels)\n",
    "tfpredict = LinearSVC_clf.predict(te_features_all)\n",
    "tfaccuracy = metrics.accuracy_score(tfpredict,Test_labels)\n",
    "LinearSVC_clf.fit(ctr_features_all,Train_labels)\n",
    "cprediction = LinearSVC_clf.predict(cte_features_all)\n",
    "caccuracy = metrics.accuracy_score(cprediction,Test_labels)\n",
    "print (\"LinearSVC\")\n",
    "print (\"TF-IDF Accuracy\")\n",
    "print (tfaccuracy)\n",
    "print (\"Count Accuracy\")\n",
    "print (caccuracy)"
   ]
  },
  {
   "cell_type": "code",
   "execution_count": 93,
   "metadata": {
    "collapsed": false
   },
   "outputs": [
    {
     "name": "stdout",
     "output_type": "stream",
     "text": [
      "KNN\n",
      "TF-IDF Accuracy\n",
      "0.25375\n",
      "Count Accuracy\n",
      "0.24125\n"
     ]
    }
   ],
   "source": [
    "KNN_clf = KNeighborsClassifier(n_neighbors=5)\n",
    "KNN_clf.fit(tr_features_all, Train_labels)\n",
    "tfpredict = KNN_clf.predict(te_features_all)\n",
    "tfaccuracy = metrics.accuracy_score(tfpredict,Test_labels)\n",
    "KNN_clf.fit(ctr_features_all,Train_labels)\n",
    "cprediction = KNN_clf.predict(cte_features_all)\n",
    "caccuracy = metrics.accuracy_score(cprediction,Test_labels)\n",
    "print (\"KNN\")\n",
    "print (\"TF-IDF Accuracy\")\n",
    "print (tfaccuracy)\n",
    "print (\"Count Accuracy\")\n",
    "print (caccuracy)"
   ]
  },
  {
   "cell_type": "code",
   "execution_count": 94,
   "metadata": {
    "collapsed": false
   },
   "outputs": [
    {
     "name": "stdout",
     "output_type": "stream",
     "text": [
      "Perceptron\n",
      "TF-IDF Accuracy\n",
      "0.255\n",
      "Count Accuracy\n",
      "0.25875\n"
     ]
    }
   ],
   "source": [
    "P_clf = linear_model.Perceptron(n_iter=1000)\n",
    "P_clf.fit(tr_features_all, Train_labels)\n",
    "tfpredict = P_clf.predict(te_features_all)\n",
    "tfaccuracy = metrics.accuracy_score(tfpredict,Test_labels)\n",
    "P_clf.fit(ctr_features_all,Train_labels)\n",
    "cprediction = P_clf.predict(cte_features_all)\n",
    "caccuracy = metrics.accuracy_score(cprediction,Test_labels)\n",
    "print (\"Perceptron\")\n",
    "print (\"TF-IDF Accuracy\")\n",
    "print (tfaccuracy)\n",
    "print (\"Count Accuracy\")\n",
    "print (caccuracy)"
   ]
  },
  {
   "cell_type": "code",
   "execution_count": 95,
   "metadata": {
    "collapsed": false
   },
   "outputs": [
    {
     "name": "stdout",
     "output_type": "stream",
     "text": [
      "Decision Tree\n",
      "TF-IDF Accuracy\n",
      "0.2775\n",
      "Count Accuracy\n",
      "0.2825\n"
     ]
    }
   ],
   "source": [
    "DT_clf = DecisionTreeClassifier(random_state=20160121, criterion='entropy')\n",
    "DT_clf.fit(tr_features_all, Train_labels)\n",
    "tfpredict = DT_clf.predict(te_features_all)\n",
    "tfaccuracy = metrics.accuracy_score(tfpredict,Test_labels)\n",
    "DT_clf.fit(ctr_features_all,Train_labels)\n",
    "cprediction = DT_clf.predict(cte_features_all)\n",
    "caccuracy = metrics.accuracy_score(cprediction,Test_labels)\n",
    "print (\"Decision Tree\")\n",
    "print (\"TF-IDF Accuracy\")\n",
    "print (tfaccuracy)\n",
    "print (\"Count Accuracy\")\n",
    "print (caccuracy)"
   ]
  },
  {
   "cell_type": "code",
   "execution_count": 96,
   "metadata": {
    "collapsed": true
   },
   "outputs": [],
   "source": [
    "#PCA + bigram"
   ]
  },
  {
   "cell_type": "code",
   "execution_count": 135,
   "metadata": {
    "collapsed": true
   },
   "outputs": [],
   "source": [
    "vec_all = CountVectorizer(ngram_range=(1,2))\n",
    "ctr_features_all = vec_all.fit_transform(Data_train)"
   ]
  },
  {
   "cell_type": "code",
   "execution_count": 136,
   "metadata": {
    "collapsed": true
   },
   "outputs": [],
   "source": [
    "tf_vec_all = TfidfTransformer()\n",
    "tr_features_all = tf_vec_all.fit_transform(ctr_features_all)"
   ]
  },
  {
   "cell_type": "code",
   "execution_count": 137,
   "metadata": {
    "collapsed": true
   },
   "outputs": [],
   "source": [
    "cte_features_all = vec_all.transform(Data_test)\n",
    "te_features_all = tf_vec_all.transform(cte_features_all)"
   ]
  },
  {
   "cell_type": "code",
   "execution_count": 138,
   "metadata": {
    "collapsed": true
   },
   "outputs": [],
   "source": [
    "svd = TruncatedSVD(n_components=200)\n",
    "tr_features_truncated = svd.fit_transform(tr_features_all)"
   ]
  },
  {
   "cell_type": "code",
   "execution_count": 139,
   "metadata": {
    "collapsed": true
   },
   "outputs": [],
   "source": [
    "te_features_truncated = svd.transform(te_features_all)"
   ]
  },
  {
   "cell_type": "code",
   "execution_count": 140,
   "metadata": {
    "collapsed": true
   },
   "outputs": [],
   "source": [
    "svd = TruncatedSVD(n_components=200)\n",
    "ctr_features_truncated = svd.fit_transform(ctr_features_all)\n",
    "cte_features_truncated = svd.transform(cte_features_all)"
   ]
  },
  {
   "cell_type": "code",
   "execution_count": 141,
   "metadata": {
    "collapsed": true
   },
   "outputs": [],
   "source": [
    "#running models"
   ]
  },
  {
   "cell_type": "code",
   "execution_count": 142,
   "metadata": {
    "collapsed": false
   },
   "outputs": [
    {
     "name": "stdout",
     "output_type": "stream",
     "text": [
      "BernoulliNB\n",
      "TF-IDF Accuracy\n",
      "0.29875\n",
      "Count Accuracy\n",
      "0.2925\n"
     ]
    }
   ],
   "source": [
    "BNB_clf = BernoulliNB(binarize=0.0)\n",
    "BNB_clf.fit(tr_features_truncated, Train_labels)\n",
    "tfpredict = BNB_clf.predict(te_features_truncated)\n",
    "tfaccuracy = metrics.accuracy_score(tfpredict,Test_labels)\n",
    "BNB_clf.fit(ctr_features_truncated,Train_labels)\n",
    "cprediction = BNB_clf.predict(cte_features_truncated)\n",
    "caccuracy = metrics.accuracy_score(cprediction,Test_labels)\n",
    "print (\"BernoulliNB\")\n",
    "print (\"TF-IDF Accuracy\")\n",
    "print (tfaccuracy)\n",
    "print (\"Count Accuracy\")\n",
    "print (caccuracy)"
   ]
  },
  {
   "cell_type": "code",
   "execution_count": 144,
   "metadata": {
    "collapsed": false
   },
   "outputs": [
    {
     "name": "stdout",
     "output_type": "stream",
     "text": [
      "-0.528449036721\n",
      "-63.7196830704\n"
     ]
    }
   ],
   "source": [
    "pos_tr_features_truncated = []\n",
    "xx = 100005\n",
    "for row in tr_features_truncated:\n",
    "    lst = []\n",
    "    for col in row:\n",
    "        xx = min(xx,col)\n",
    "        lst.append(col+0.528449036722)\n",
    "    pos_tr_features_truncated.append(lst)\n",
    "    \n",
    "print (xx)\n",
    "\n",
    "pos_ctr_features_truncated = []\n",
    "for row in ctr_features_truncated:\n",
    "    lst = []\n",
    "    for col in row:\n",
    "        xx = min(xx,col)\n",
    "        lst.append(col+63.7196830705)\n",
    "    pos_ctr_features_truncated.append(lst)\n",
    "print (xx)"
   ]
  },
  {
   "cell_type": "code",
   "execution_count": 145,
   "metadata": {
    "collapsed": false
   },
   "outputs": [
    {
     "name": "stdout",
     "output_type": "stream",
     "text": [
      "MultinomialNB\n",
      "TF-IDF Accuracy\n",
      "0.305\n",
      "Count Accuracy\n",
      "0.235\n"
     ]
    }
   ],
   "source": [
    "MNB_clf = MultinomialNB()\n",
    "MNB_clf.fit(pos_tr_features_truncated, Train_labels)\n",
    "tfpredict = MNB_clf.predict(te_features_truncated)\n",
    "tfaccuracy = metrics.accuracy_score(tfpredict,Test_labels)\n",
    "MNB_clf.fit(pos_ctr_features_truncated,Train_labels)\n",
    "cprediction = MNB_clf.predict(cte_features_truncated)\n",
    "caccuracy = metrics.accuracy_score(cprediction,Test_labels)\n",
    "print (\"MultinomialNB\")\n",
    "print (\"TF-IDF Accuracy\")\n",
    "print (tfaccuracy)\n",
    "print (\"Count Accuracy\")\n",
    "print (caccuracy)"
   ]
  },
  {
   "cell_type": "code",
   "execution_count": 146,
   "metadata": {
    "collapsed": false
   },
   "outputs": [
    {
     "name": "stdout",
     "output_type": "stream",
     "text": [
      "Logistic\n",
      "TF-IDF Accuracy\n",
      "0.31125\n",
      "Count Accuracy\n",
      "0.30625\n"
     ]
    }
   ],
   "source": [
    "LR_clf = linear_model.LogisticRegression(C=1e5)\n",
    "LR_clf.fit(tr_features_truncated, Train_labels)\n",
    "tfpredict = LR_clf.predict(te_features_truncated)\n",
    "tfaccuracy = metrics.accuracy_score(tfpredict,Test_labels)\n",
    "LR_clf.fit(ctr_features_truncated,Train_labels)\n",
    "cprediction = LR_clf.predict(cte_features_truncated)\n",
    "caccuracy = metrics.accuracy_score(cprediction,Test_labels)\n",
    "print (\"Logistic\")\n",
    "print (\"TF-IDF Accuracy\")\n",
    "print (tfaccuracy)\n",
    "print (\"Count Accuracy\")\n",
    "print (caccuracy)"
   ]
  },
  {
   "cell_type": "code",
   "execution_count": 147,
   "metadata": {
    "collapsed": false
   },
   "outputs": [
    {
     "name": "stdout",
     "output_type": "stream",
     "text": [
      "SVC SVM\n",
      "TF-IDF Accuracy\n",
      "0.235\n",
      "Count Accuracy\n",
      "0.2975\n"
     ]
    }
   ],
   "source": [
    "SVC_clf = svm.SVC()\n",
    "SVC_clf.fit(tr_features_truncated, Train_labels)\n",
    "tfpredict = SVC_clf.predict(te_features_truncated)\n",
    "tfaccuracy = metrics.accuracy_score(tfpredict,Test_labels)\n",
    "SVC_clf.fit(ctr_features_truncated,Train_labels)\n",
    "cprediction = SVC_clf.predict(cte_features_truncated)\n",
    "caccuracy = metrics.accuracy_score(cprediction,Test_labels)\n",
    "print (\"SVC SVM\")\n",
    "print (\"TF-IDF Accuracy\")\n",
    "print (tfaccuracy)\n",
    "print (\"Count Accuracy\")\n",
    "print (caccuracy)"
   ]
  },
  {
   "cell_type": "code",
   "execution_count": 148,
   "metadata": {
    "collapsed": false
   },
   "outputs": [
    {
     "name": "stdout",
     "output_type": "stream",
     "text": [
      "nuSVC SVM\n",
      "TF-IDF Accuracy\n",
      "0.27125\n",
      "Count Accuracy\n",
      "0.29\n"
     ]
    }
   ],
   "source": [
    "NuSVC_clf = svm.NuSVC()\n",
    "NuSVC_clf.fit(tr_features_truncated, Train_labels)\n",
    "tfpredict = NuSVC_clf.predict(te_features_truncated)\n",
    "tfaccuracy = metrics.accuracy_score(tfpredict,Test_labels)\n",
    "NuSVC_clf.fit(ctr_features_truncated,Train_labels)\n",
    "cprediction = NuSVC_clf.predict(cte_features_truncated)\n",
    "caccuracy = metrics.accuracy_score(cprediction,Test_labels)\n",
    "print (\"nuSVC SVM\")\n",
    "print (\"TF-IDF Accuracy\")\n",
    "print (tfaccuracy)\n",
    "print (\"Count Accuracy\")\n",
    "print (caccuracy)"
   ]
  },
  {
   "cell_type": "code",
   "execution_count": 149,
   "metadata": {
    "collapsed": false
   },
   "outputs": [
    {
     "name": "stdout",
     "output_type": "stream",
     "text": [
      "LinearSVC\n",
      "TF-IDF Accuracy\n",
      "0.30875\n",
      "Count Accuracy\n",
      "0.27\n"
     ]
    }
   ],
   "source": [
    "LinearSVC_clf = svm.LinearSVC()\n",
    "LinearSVC_clf.fit(tr_features_truncated, Train_labels)\n",
    "tfpredict = LinearSVC_clf.predict(te_features_truncated)\n",
    "tfaccuracy = metrics.accuracy_score(tfpredict,Test_labels)\n",
    "LinearSVC_clf.fit(ctr_features_truncated,Train_labels)\n",
    "cprediction = LinearSVC_clf.predict(cte_features_truncated)\n",
    "caccuracy = metrics.accuracy_score(cprediction,Test_labels)\n",
    "print (\"LinearSVC\")\n",
    "print (\"TF-IDF Accuracy\")\n",
    "print (tfaccuracy)\n",
    "print (\"Count Accuracy\")\n",
    "print (caccuracy)"
   ]
  },
  {
   "cell_type": "code",
   "execution_count": 150,
   "metadata": {
    "collapsed": false
   },
   "outputs": [
    {
     "name": "stdout",
     "output_type": "stream",
     "text": [
      "KNN\n",
      "TF-IDF Accuracy\n",
      "0.26625\n",
      "Count Accuracy\n",
      "0.30375\n"
     ]
    }
   ],
   "source": [
    "KNN_clf = KNeighborsClassifier(n_neighbors=5)\n",
    "KNN_clf.fit(tr_features_truncated, Train_labels)\n",
    "tfpredict = KNN_clf.predict(te_features_truncated)\n",
    "tfaccuracy = metrics.accuracy_score(tfpredict,Test_labels)\n",
    "KNN_clf.fit(ctr_features_truncated,Train_labels)\n",
    "cprediction = KNN_clf.predict(cte_features_truncated)\n",
    "caccuracy = metrics.accuracy_score(cprediction,Test_labels)\n",
    "print (\"KNN\")\n",
    "print (\"TF-IDF Accuracy\")\n",
    "print (tfaccuracy)\n",
    "print (\"Count Accuracy\")\n",
    "print (caccuracy)"
   ]
  },
  {
   "cell_type": "code",
   "execution_count": 151,
   "metadata": {
    "collapsed": false
   },
   "outputs": [
    {
     "name": "stdout",
     "output_type": "stream",
     "text": [
      "Perceptron\n",
      "TF-IDF Accuracy\n",
      "0.2075\n",
      "Count Accuracy\n",
      "0.23375\n"
     ]
    }
   ],
   "source": [
    "P_clf = linear_model.Perceptron(n_iter=1000)\n",
    "P_clf.fit(tr_features_truncated, Train_labels)\n",
    "tfpredict = P_clf.predict(te_features_truncated)\n",
    "tfaccuracy = metrics.accuracy_score(tfpredict,Test_labels)\n",
    "P_clf.fit(ctr_features_truncated,Train_labels)\n",
    "cprediction = P_clf.predict(cte_features_truncated)\n",
    "caccuracy = metrics.accuracy_score(cprediction,Test_labels)\n",
    "print (\"Perceptron\")\n",
    "print (\"TF-IDF Accuracy\")\n",
    "print (tfaccuracy)\n",
    "print (\"Count Accuracy\")\n",
    "print (caccuracy)"
   ]
  },
  {
   "cell_type": "code",
   "execution_count": 152,
   "metadata": {
    "collapsed": false,
    "scrolled": true
   },
   "outputs": [
    {
     "name": "stdout",
     "output_type": "stream",
     "text": [
      "Decision Tree\n",
      "TF-IDF Accuracy\n",
      "0.28\n",
      "Count Accuracy\n",
      "0.27125\n"
     ]
    }
   ],
   "source": [
    "DT_clf = DecisionTreeClassifier(random_state=20160121, criterion='entropy')\n",
    "DT_clf.fit(tr_features_truncated, Train_labels)\n",
    "tfpredict = DT_clf.predict(te_features_truncated)\n",
    "tfaccuracy = metrics.accuracy_score(tfpredict,Test_labels)\n",
    "DT_clf.fit(ctr_features_truncated,Train_labels)\n",
    "cprediction = DT_clf.predict(cte_features_truncated)\n",
    "caccuracy = metrics.accuracy_score(cprediction,Test_labels)\n",
    "print (\"Decision Tree\")\n",
    "print (\"TF-IDF Accuracy\")\n",
    "print (tfaccuracy)\n",
    "print (\"Count Accuracy\")\n",
    "print (caccuracy)"
   ]
  },
  {
   "cell_type": "code",
   "execution_count": null,
   "metadata": {
    "collapsed": true
   },
   "outputs": [],
   "source": []
  },
  {
   "cell_type": "code",
   "execution_count": null,
   "metadata": {
    "collapsed": true
   },
   "outputs": [],
   "source": []
  },
  {
   "cell_type": "code",
   "execution_count": null,
   "metadata": {
    "collapsed": true
   },
   "outputs": [],
   "source": []
  }
 ],
 "metadata": {
  "anaconda-cloud": {},
  "kernelspec": {
   "display_name": "Python [Root]",
   "language": "python",
   "name": "Python [Root]"
  },
  "language_info": {
   "codemirror_mode": {
    "name": "ipython",
    "version": 2
   },
   "file_extension": ".py",
   "mimetype": "text/x-python",
   "name": "python",
   "nbconvert_exporter": "python",
   "pygments_lexer": "ipython2",
   "version": "2.7.12"
  }
 },
 "nbformat": 4,
 "nbformat_minor": 0
}
